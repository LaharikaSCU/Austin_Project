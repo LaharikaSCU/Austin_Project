{
 "cells": [
  {
   "cell_type": "code",
   "execution_count": 1,
   "metadata": {},
   "outputs": [],
   "source": [
    "# import libraries\n",
    "import os\n",
    "from path import Path\n",
    "import pandas as pd\n",
    "import matplotlib.pyplot as plt\n",
    "from sklearn.linear_model import LinearRegression"
   ]
  },
  {
   "cell_type": "code",
   "execution_count": 2,
   "metadata": {},
   "outputs": [],
   "source": [
    "#Reading the Data into the Dataframe"
   ]
  },
  {
   "cell_type": "code",
   "execution_count": 3,
   "metadata": {},
   "outputs": [
    {
     "data": {
      "text/html": [
       "<div>\n",
       "<style scoped>\n",
       "    .dataframe tbody tr th:only-of-type {\n",
       "        vertical-align: middle;\n",
       "    }\n",
       "\n",
       "    .dataframe tbody tr th {\n",
       "        vertical-align: top;\n",
       "    }\n",
       "\n",
       "    .dataframe thead th {\n",
       "        text-align: right;\n",
       "    }\n",
       "</style>\n",
       "<table border=\"1\" class=\"dataframe\">\n",
       "  <thead>\n",
       "    <tr style=\"text-align: right;\">\n",
       "      <th></th>\n",
       "      <th>zpid</th>\n",
       "      <th>city</th>\n",
       "      <th>streetAddress</th>\n",
       "      <th>zipcode</th>\n",
       "      <th>description</th>\n",
       "      <th>latitude</th>\n",
       "      <th>longitude</th>\n",
       "      <th>propertyTaxRate</th>\n",
       "      <th>garageSpaces</th>\n",
       "      <th>hasAssociation</th>\n",
       "      <th>...</th>\n",
       "      <th>numOfMiddleSchools</th>\n",
       "      <th>numOfHighSchools</th>\n",
       "      <th>avgSchoolDistance</th>\n",
       "      <th>avgSchoolRating</th>\n",
       "      <th>avgSchoolSize</th>\n",
       "      <th>MedianStudentsPerTeacher</th>\n",
       "      <th>numOfBathrooms</th>\n",
       "      <th>numOfBedrooms</th>\n",
       "      <th>numOfStories</th>\n",
       "      <th>homeImage</th>\n",
       "    </tr>\n",
       "  </thead>\n",
       "  <tbody>\n",
       "    <tr>\n",
       "      <th>0</th>\n",
       "      <td>111373431</td>\n",
       "      <td>pflugerville</td>\n",
       "      <td>14424 Lake Victor Dr</td>\n",
       "      <td>78660</td>\n",
       "      <td>14424 Lake Victor Dr, Pflugerville, TX 78660 i...</td>\n",
       "      <td>30.430632</td>\n",
       "      <td>-97.663078</td>\n",
       "      <td>1.98</td>\n",
       "      <td>2</td>\n",
       "      <td>True</td>\n",
       "      <td>...</td>\n",
       "      <td>1</td>\n",
       "      <td>1</td>\n",
       "      <td>1.266667</td>\n",
       "      <td>2.666667</td>\n",
       "      <td>1063</td>\n",
       "      <td>14</td>\n",
       "      <td>3.0</td>\n",
       "      <td>4</td>\n",
       "      <td>2</td>\n",
       "      <td>111373431_ffce26843283d3365c11d81b8e6bdc6f-p_f...</td>\n",
       "    </tr>\n",
       "    <tr>\n",
       "      <th>1</th>\n",
       "      <td>120900430</td>\n",
       "      <td>pflugerville</td>\n",
       "      <td>1104 Strickling Dr</td>\n",
       "      <td>78660</td>\n",
       "      <td>Absolutely GORGEOUS 4 Bedroom home with 2 full...</td>\n",
       "      <td>30.432673</td>\n",
       "      <td>-97.661697</td>\n",
       "      <td>1.98</td>\n",
       "      <td>2</td>\n",
       "      <td>True</td>\n",
       "      <td>...</td>\n",
       "      <td>1</td>\n",
       "      <td>1</td>\n",
       "      <td>1.400000</td>\n",
       "      <td>2.666667</td>\n",
       "      <td>1063</td>\n",
       "      <td>14</td>\n",
       "      <td>2.0</td>\n",
       "      <td>4</td>\n",
       "      <td>1</td>\n",
       "      <td>120900430_8255c127be8dcf0a1a18b7563d987088-p_f...</td>\n",
       "    </tr>\n",
       "    <tr>\n",
       "      <th>2</th>\n",
       "      <td>2084491383</td>\n",
       "      <td>pflugerville</td>\n",
       "      <td>1408 Fort Dessau Rd</td>\n",
       "      <td>78660</td>\n",
       "      <td>Under construction - estimated completion in A...</td>\n",
       "      <td>30.409748</td>\n",
       "      <td>-97.639771</td>\n",
       "      <td>1.98</td>\n",
       "      <td>0</td>\n",
       "      <td>True</td>\n",
       "      <td>...</td>\n",
       "      <td>1</td>\n",
       "      <td>1</td>\n",
       "      <td>1.200000</td>\n",
       "      <td>3.000000</td>\n",
       "      <td>1108</td>\n",
       "      <td>14</td>\n",
       "      <td>2.0</td>\n",
       "      <td>3</td>\n",
       "      <td>1</td>\n",
       "      <td>2084491383_a2ad649e1a7a098111dcea084a11c855-p_...</td>\n",
       "    </tr>\n",
       "    <tr>\n",
       "      <th>3</th>\n",
       "      <td>120901374</td>\n",
       "      <td>pflugerville</td>\n",
       "      <td>1025 Strickling Dr</td>\n",
       "      <td>78660</td>\n",
       "      <td>Absolutely darling one story home in charming ...</td>\n",
       "      <td>30.432112</td>\n",
       "      <td>-97.661659</td>\n",
       "      <td>1.98</td>\n",
       "      <td>2</td>\n",
       "      <td>True</td>\n",
       "      <td>...</td>\n",
       "      <td>1</td>\n",
       "      <td>1</td>\n",
       "      <td>1.400000</td>\n",
       "      <td>2.666667</td>\n",
       "      <td>1063</td>\n",
       "      <td>14</td>\n",
       "      <td>2.0</td>\n",
       "      <td>3</td>\n",
       "      <td>1</td>\n",
       "      <td>120901374_b469367a619da85b1f5ceb69b675d88e-p_f...</td>\n",
       "    </tr>\n",
       "    <tr>\n",
       "      <th>4</th>\n",
       "      <td>60134862</td>\n",
       "      <td>pflugerville</td>\n",
       "      <td>15005 Donna Jane Loop</td>\n",
       "      <td>78660</td>\n",
       "      <td>Brimming with appeal &amp; warm livability! Sleek ...</td>\n",
       "      <td>30.437368</td>\n",
       "      <td>-97.656860</td>\n",
       "      <td>1.98</td>\n",
       "      <td>0</td>\n",
       "      <td>True</td>\n",
       "      <td>...</td>\n",
       "      <td>1</td>\n",
       "      <td>1</td>\n",
       "      <td>1.133333</td>\n",
       "      <td>4.000000</td>\n",
       "      <td>1223</td>\n",
       "      <td>14</td>\n",
       "      <td>3.0</td>\n",
       "      <td>3</td>\n",
       "      <td>2</td>\n",
       "      <td>60134862_b1a48a3df3f111e005bb913873e98ce2-p_f.jpg</td>\n",
       "    </tr>\n",
       "  </tbody>\n",
       "</table>\n",
       "<p>5 rows × 47 columns</p>\n",
       "</div>"
      ],
      "text/plain": [
       "         zpid          city          streetAddress  zipcode  \\\n",
       "0   111373431  pflugerville   14424 Lake Victor Dr    78660   \n",
       "1   120900430  pflugerville     1104 Strickling Dr    78660   \n",
       "2  2084491383  pflugerville    1408 Fort Dessau Rd    78660   \n",
       "3   120901374  pflugerville     1025 Strickling Dr    78660   \n",
       "4    60134862  pflugerville  15005 Donna Jane Loop    78660   \n",
       "\n",
       "                                         description   latitude  longitude  \\\n",
       "0  14424 Lake Victor Dr, Pflugerville, TX 78660 i...  30.430632 -97.663078   \n",
       "1  Absolutely GORGEOUS 4 Bedroom home with 2 full...  30.432673 -97.661697   \n",
       "2  Under construction - estimated completion in A...  30.409748 -97.639771   \n",
       "3  Absolutely darling one story home in charming ...  30.432112 -97.661659   \n",
       "4  Brimming with appeal & warm livability! Sleek ...  30.437368 -97.656860   \n",
       "\n",
       "   propertyTaxRate  garageSpaces  hasAssociation  ...  numOfMiddleSchools  \\\n",
       "0             1.98             2            True  ...                   1   \n",
       "1             1.98             2            True  ...                   1   \n",
       "2             1.98             0            True  ...                   1   \n",
       "3             1.98             2            True  ...                   1   \n",
       "4             1.98             0            True  ...                   1   \n",
       "\n",
       "   numOfHighSchools  avgSchoolDistance  avgSchoolRating  avgSchoolSize  \\\n",
       "0                 1           1.266667         2.666667           1063   \n",
       "1                 1           1.400000         2.666667           1063   \n",
       "2                 1           1.200000         3.000000           1108   \n",
       "3                 1           1.400000         2.666667           1063   \n",
       "4                 1           1.133333         4.000000           1223   \n",
       "\n",
       "  MedianStudentsPerTeacher  numOfBathrooms  numOfBedrooms  numOfStories  \\\n",
       "0                       14             3.0              4             2   \n",
       "1                       14             2.0              4             1   \n",
       "2                       14             2.0              3             1   \n",
       "3                       14             2.0              3             1   \n",
       "4                       14             3.0              3             2   \n",
       "\n",
       "                                           homeImage  \n",
       "0  111373431_ffce26843283d3365c11d81b8e6bdc6f-p_f...  \n",
       "1  120900430_8255c127be8dcf0a1a18b7563d987088-p_f...  \n",
       "2  2084491383_a2ad649e1a7a098111dcea084a11c855-p_...  \n",
       "3  120901374_b469367a619da85b1f5ceb69b675d88e-p_f...  \n",
       "4  60134862_b1a48a3df3f111e005bb913873e98ce2-p_f.jpg  \n",
       "\n",
       "[5 rows x 47 columns]"
      ]
     },
     "execution_count": 3,
     "metadata": {},
     "output_type": "execute_result"
    }
   ],
   "source": [
    "filepath = \"./Resources/austinHousingData.csv\"\n",
    "housing_raw_df = pd.read_csv(filepath)\n",
    "housing_raw_df.head()"
   ]
  },
  {
   "cell_type": "code",
   "execution_count": 4,
   "metadata": {},
   "outputs": [
    {
     "data": {
      "text/plain": [
       "zpid                          15171\n",
       "city                              9\n",
       "streetAddress                 15164\n",
       "zipcode                          48\n",
       "description                   15133\n",
       "latitude                      14410\n",
       "longitude                     12480\n",
       "propertyTaxRate                   3\n",
       "garageSpaces                     14\n",
       "hasAssociation                    2\n",
       "hasCooling                        2\n",
       "hasGarage                         2\n",
       "hasHeating                        2\n",
       "hasSpa                            2\n",
       "hasView                           2\n",
       "homeType                         10\n",
       "parkingSpaces                    14\n",
       "yearBuilt                       115\n",
       "latestPrice                    2365\n",
       "numPriceChanges                  22\n",
       "latest_saledate                 958\n",
       "latest_salemonth                 12\n",
       "latest_saleyear                   4\n",
       "latestPriceSource               225\n",
       "numOfPhotos                     151\n",
       "numOfAccessibilityFeatures        8\n",
       "numOfAppliances                  13\n",
       "numOfParkingFeatures              7\n",
       "numOfPatioAndPorchFeatures        9\n",
       "numOfSecurityFeatures             7\n",
       "numOfWaterfrontFeatures           3\n",
       "numOfWindowFeatures               5\n",
       "numOfCommunityFeatures            9\n",
       "lotSizeSqFt                    1426\n",
       "livingAreaSqFt                 3650\n",
       "numOfPrimarySchools               3\n",
       "numOfElementarySchools            3\n",
       "numOfMiddleSchools                4\n",
       "numOfHighSchools                  3\n",
       "avgSchoolDistance               362\n",
       "avgSchoolRating                  27\n",
       "avgSchoolSize                   160\n",
       "MedianStudentsPerTeacher         10\n",
       "numOfBathrooms                   22\n",
       "numOfBedrooms                    11\n",
       "numOfStories                      4\n",
       "homeImage                     15171\n",
       "dtype: int64"
      ]
     },
     "execution_count": 4,
     "metadata": {},
     "output_type": "execute_result"
    }
   ],
   "source": [
    "housing_raw_df.nunique() # reading the uniques values in each column"
   ]
  },
  {
   "cell_type": "code",
   "execution_count": 5,
   "metadata": {},
   "outputs": [
    {
     "data": {
      "text/plain": [
       "0        Coldwell Banker United, Realtors - South Austin\n",
       "1                                         Agent Provided\n",
       "2                                         Agent Provided\n",
       "3                                         Agent Provided\n",
       "4                                         Agent Provided\n",
       "                              ...                       \n",
       "15166                                     Agent Provided\n",
       "15167                                     Agent Provided\n",
       "15168                                               ABOR\n",
       "15169                                    Broker Provided\n",
       "15170                                      Realty Austin\n",
       "Name: latestPriceSource, Length: 15171, dtype: object"
      ]
     },
     "execution_count": 5,
     "metadata": {},
     "output_type": "execute_result"
    }
   ],
   "source": [
    "housing_raw_df.latestPriceSource"
   ]
  },
  {
   "cell_type": "code",
   "execution_count": 6,
   "metadata": {},
   "outputs": [
    {
     "data": {
      "text/html": [
       "<div>\n",
       "<style scoped>\n",
       "    .dataframe tbody tr th:only-of-type {\n",
       "        vertical-align: middle;\n",
       "    }\n",
       "\n",
       "    .dataframe tbody tr th {\n",
       "        vertical-align: top;\n",
       "    }\n",
       "\n",
       "    .dataframe thead th {\n",
       "        text-align: right;\n",
       "    }\n",
       "</style>\n",
       "<table border=\"1\" class=\"dataframe\">\n",
       "  <thead>\n",
       "    <tr style=\"text-align: right;\">\n",
       "      <th></th>\n",
       "      <th>city</th>\n",
       "      <th>zipcode</th>\n",
       "      <th>propertyTaxRate</th>\n",
       "      <th>garageSpaces</th>\n",
       "      <th>hasAssociation</th>\n",
       "      <th>hasCooling</th>\n",
       "      <th>hasGarage</th>\n",
       "      <th>hasHeating</th>\n",
       "      <th>hasSpa</th>\n",
       "      <th>hasView</th>\n",
       "      <th>...</th>\n",
       "      <th>numOfElementarySchools</th>\n",
       "      <th>numOfMiddleSchools</th>\n",
       "      <th>numOfHighSchools</th>\n",
       "      <th>avgSchoolDistance</th>\n",
       "      <th>avgSchoolRating</th>\n",
       "      <th>avgSchoolSize</th>\n",
       "      <th>MedianStudentsPerTeacher</th>\n",
       "      <th>numOfBathrooms</th>\n",
       "      <th>numOfBedrooms</th>\n",
       "      <th>numOfStories</th>\n",
       "    </tr>\n",
       "    <tr>\n",
       "      <th>zpid</th>\n",
       "      <th></th>\n",
       "      <th></th>\n",
       "      <th></th>\n",
       "      <th></th>\n",
       "      <th></th>\n",
       "      <th></th>\n",
       "      <th></th>\n",
       "      <th></th>\n",
       "      <th></th>\n",
       "      <th></th>\n",
       "      <th></th>\n",
       "      <th></th>\n",
       "      <th></th>\n",
       "      <th></th>\n",
       "      <th></th>\n",
       "      <th></th>\n",
       "      <th></th>\n",
       "      <th></th>\n",
       "      <th></th>\n",
       "      <th></th>\n",
       "      <th></th>\n",
       "    </tr>\n",
       "  </thead>\n",
       "  <tbody>\n",
       "    <tr>\n",
       "      <th>111373431</th>\n",
       "      <td>pflugerville</td>\n",
       "      <td>78660</td>\n",
       "      <td>1.98</td>\n",
       "      <td>2</td>\n",
       "      <td>True</td>\n",
       "      <td>True</td>\n",
       "      <td>True</td>\n",
       "      <td>True</td>\n",
       "      <td>False</td>\n",
       "      <td>False</td>\n",
       "      <td>...</td>\n",
       "      <td>0</td>\n",
       "      <td>1</td>\n",
       "      <td>1</td>\n",
       "      <td>1.266667</td>\n",
       "      <td>2.666667</td>\n",
       "      <td>1063</td>\n",
       "      <td>14</td>\n",
       "      <td>3.0</td>\n",
       "      <td>4</td>\n",
       "      <td>2</td>\n",
       "    </tr>\n",
       "    <tr>\n",
       "      <th>120900430</th>\n",
       "      <td>pflugerville</td>\n",
       "      <td>78660</td>\n",
       "      <td>1.98</td>\n",
       "      <td>2</td>\n",
       "      <td>True</td>\n",
       "      <td>True</td>\n",
       "      <td>True</td>\n",
       "      <td>True</td>\n",
       "      <td>False</td>\n",
       "      <td>False</td>\n",
       "      <td>...</td>\n",
       "      <td>0</td>\n",
       "      <td>1</td>\n",
       "      <td>1</td>\n",
       "      <td>1.400000</td>\n",
       "      <td>2.666667</td>\n",
       "      <td>1063</td>\n",
       "      <td>14</td>\n",
       "      <td>2.0</td>\n",
       "      <td>4</td>\n",
       "      <td>1</td>\n",
       "    </tr>\n",
       "    <tr>\n",
       "      <th>2084491383</th>\n",
       "      <td>pflugerville</td>\n",
       "      <td>78660</td>\n",
       "      <td>1.98</td>\n",
       "      <td>0</td>\n",
       "      <td>True</td>\n",
       "      <td>True</td>\n",
       "      <td>False</td>\n",
       "      <td>True</td>\n",
       "      <td>False</td>\n",
       "      <td>False</td>\n",
       "      <td>...</td>\n",
       "      <td>2</td>\n",
       "      <td>1</td>\n",
       "      <td>1</td>\n",
       "      <td>1.200000</td>\n",
       "      <td>3.000000</td>\n",
       "      <td>1108</td>\n",
       "      <td>14</td>\n",
       "      <td>2.0</td>\n",
       "      <td>3</td>\n",
       "      <td>1</td>\n",
       "    </tr>\n",
       "    <tr>\n",
       "      <th>120901374</th>\n",
       "      <td>pflugerville</td>\n",
       "      <td>78660</td>\n",
       "      <td>1.98</td>\n",
       "      <td>2</td>\n",
       "      <td>True</td>\n",
       "      <td>True</td>\n",
       "      <td>True</td>\n",
       "      <td>True</td>\n",
       "      <td>False</td>\n",
       "      <td>False</td>\n",
       "      <td>...</td>\n",
       "      <td>0</td>\n",
       "      <td>1</td>\n",
       "      <td>1</td>\n",
       "      <td>1.400000</td>\n",
       "      <td>2.666667</td>\n",
       "      <td>1063</td>\n",
       "      <td>14</td>\n",
       "      <td>2.0</td>\n",
       "      <td>3</td>\n",
       "      <td>1</td>\n",
       "    </tr>\n",
       "    <tr>\n",
       "      <th>60134862</th>\n",
       "      <td>pflugerville</td>\n",
       "      <td>78660</td>\n",
       "      <td>1.98</td>\n",
       "      <td>0</td>\n",
       "      <td>True</td>\n",
       "      <td>True</td>\n",
       "      <td>False</td>\n",
       "      <td>True</td>\n",
       "      <td>False</td>\n",
       "      <td>False</td>\n",
       "      <td>...</td>\n",
       "      <td>0</td>\n",
       "      <td>1</td>\n",
       "      <td>1</td>\n",
       "      <td>1.133333</td>\n",
       "      <td>4.000000</td>\n",
       "      <td>1223</td>\n",
       "      <td>14</td>\n",
       "      <td>3.0</td>\n",
       "      <td>3</td>\n",
       "      <td>2</td>\n",
       "    </tr>\n",
       "  </tbody>\n",
       "</table>\n",
       "<p>5 rows × 38 columns</p>\n",
       "</div>"
      ],
      "text/plain": [
       "                    city  zipcode  propertyTaxRate  garageSpaces  \\\n",
       "zpid                                                               \n",
       "111373431   pflugerville    78660             1.98             2   \n",
       "120900430   pflugerville    78660             1.98             2   \n",
       "2084491383  pflugerville    78660             1.98             0   \n",
       "120901374   pflugerville    78660             1.98             2   \n",
       "60134862    pflugerville    78660             1.98             0   \n",
       "\n",
       "            hasAssociation  hasCooling  hasGarage  hasHeating  hasSpa  \\\n",
       "zpid                                                                    \n",
       "111373431             True        True       True        True   False   \n",
       "120900430             True        True       True        True   False   \n",
       "2084491383            True        True      False        True   False   \n",
       "120901374             True        True       True        True   False   \n",
       "60134862              True        True      False        True   False   \n",
       "\n",
       "            hasView  ... numOfElementarySchools  numOfMiddleSchools  \\\n",
       "zpid                 ...                                              \n",
       "111373431     False  ...                      0                   1   \n",
       "120900430     False  ...                      0                   1   \n",
       "2084491383    False  ...                      2                   1   \n",
       "120901374     False  ...                      0                   1   \n",
       "60134862      False  ...                      0                   1   \n",
       "\n",
       "            numOfHighSchools  avgSchoolDistance avgSchoolRating  \\\n",
       "zpid                                                              \n",
       "111373431                  1           1.266667        2.666667   \n",
       "120900430                  1           1.400000        2.666667   \n",
       "2084491383                 1           1.200000        3.000000   \n",
       "120901374                  1           1.400000        2.666667   \n",
       "60134862                   1           1.133333        4.000000   \n",
       "\n",
       "            avgSchoolSize  MedianStudentsPerTeacher  numOfBathrooms  \\\n",
       "zpid                                                                  \n",
       "111373431            1063                        14             3.0   \n",
       "120900430            1063                        14             2.0   \n",
       "2084491383           1108                        14             2.0   \n",
       "120901374            1063                        14             2.0   \n",
       "60134862             1223                        14             3.0   \n",
       "\n",
       "            numOfBedrooms  numOfStories  \n",
       "zpid                                     \n",
       "111373431               4             2  \n",
       "120900430               4             1  \n",
       "2084491383              3             1  \n",
       "120901374               3             1  \n",
       "60134862                3             2  \n",
       "\n",
       "[5 rows x 38 columns]"
      ]
     },
     "execution_count": 6,
     "metadata": {},
     "output_type": "execute_result"
    }
   ],
   "source": [
    "# Drop the columns which are not useful for analysis\n",
    "drop_cols_list = [\"homeImage\", \"numOfPhotos\", \"numPriceChanges\", \"description\" , \"streetAddress\", \"latitude\", \"longitude\", \"latestPriceSource\"]\n",
    "housing_df = housing_raw_df.drop(columns=drop_cols_list)\n",
    "housing_df = housing_df.set_index(\"zpid\")\n",
    "housing_df.head(5)"
   ]
  },
  {
   "cell_type": "code",
   "execution_count": 7,
   "metadata": {},
   "outputs": [
    {
     "data": {
      "text/plain": [
       "city                           object\n",
       "zipcode                         int64\n",
       "propertyTaxRate               float64\n",
       "garageSpaces                    int64\n",
       "hasAssociation                   bool\n",
       "hasCooling                       bool\n",
       "hasGarage                        bool\n",
       "hasHeating                       bool\n",
       "hasSpa                           bool\n",
       "hasView                          bool\n",
       "homeType                       object\n",
       "parkingSpaces                   int64\n",
       "yearBuilt                       int64\n",
       "latestPrice                   float64\n",
       "latest_saledate                object\n",
       "latest_salemonth                int64\n",
       "latest_saleyear                 int64\n",
       "numOfAccessibilityFeatures      int64\n",
       "numOfAppliances                 int64\n",
       "numOfParkingFeatures            int64\n",
       "numOfPatioAndPorchFeatures      int64\n",
       "numOfSecurityFeatures           int64\n",
       "numOfWaterfrontFeatures         int64\n",
       "numOfWindowFeatures             int64\n",
       "numOfCommunityFeatures          int64\n",
       "lotSizeSqFt                   float64\n",
       "livingAreaSqFt                float64\n",
       "numOfPrimarySchools             int64\n",
       "numOfElementarySchools          int64\n",
       "numOfMiddleSchools              int64\n",
       "numOfHighSchools                int64\n",
       "avgSchoolDistance             float64\n",
       "avgSchoolRating               float64\n",
       "avgSchoolSize                   int64\n",
       "MedianStudentsPerTeacher        int64\n",
       "numOfBathrooms                float64\n",
       "numOfBedrooms                   int64\n",
       "numOfStories                    int64\n",
       "dtype: object"
      ]
     },
     "execution_count": 7,
     "metadata": {},
     "output_type": "execute_result"
    }
   ],
   "source": [
    "housing_df.dtypes # checking datatypes of all the columns"
   ]
  },
  {
   "cell_type": "code",
   "execution_count": 8,
   "metadata": {},
   "outputs": [
    {
     "name": "stdout",
     "output_type": "stream",
     "text": [
      "city                          15171\n",
      "zipcode                       15171\n",
      "propertyTaxRate               15171\n",
      "garageSpaces                  15171\n",
      "hasAssociation                15171\n",
      "hasCooling                    15171\n",
      "hasGarage                     15171\n",
      "hasHeating                    15171\n",
      "hasSpa                        15171\n",
      "hasView                       15171\n",
      "homeType                      15171\n",
      "parkingSpaces                 15171\n",
      "yearBuilt                     15171\n",
      "latestPrice                   15171\n",
      "latest_saledate               15171\n",
      "latest_salemonth              15171\n",
      "latest_saleyear               15171\n",
      "numOfAccessibilityFeatures    15171\n",
      "numOfAppliances               15171\n",
      "numOfParkingFeatures          15171\n",
      "numOfPatioAndPorchFeatures    15171\n",
      "numOfSecurityFeatures         15171\n",
      "numOfWaterfrontFeatures       15171\n",
      "numOfWindowFeatures           15171\n",
      "numOfCommunityFeatures        15171\n",
      "lotSizeSqFt                   15171\n",
      "livingAreaSqFt                15171\n",
      "numOfPrimarySchools           15171\n",
      "numOfElementarySchools        15171\n",
      "numOfMiddleSchools            15171\n",
      "numOfHighSchools              15171\n",
      "avgSchoolDistance             15171\n",
      "avgSchoolRating               15171\n",
      "avgSchoolSize                 15171\n",
      "MedianStudentsPerTeacher      15171\n",
      "numOfBathrooms                15171\n",
      "numOfBedrooms                 15171\n",
      "numOfStories                  15171\n",
      "dtype: int64\n"
     ]
    }
   ],
   "source": [
    "housing_df.dropna()\n",
    "print(housing_df.count()) # checking if the count of the columns are all same"
   ]
  },
  {
   "cell_type": "code",
   "execution_count": 9,
   "metadata": {},
   "outputs": [
    {
     "data": {
      "text/plain": [
       "city                          0\n",
       "zipcode                       0\n",
       "propertyTaxRate               0\n",
       "garageSpaces                  0\n",
       "hasAssociation                0\n",
       "hasCooling                    0\n",
       "hasGarage                     0\n",
       "hasHeating                    0\n",
       "hasSpa                        0\n",
       "hasView                       0\n",
       "homeType                      0\n",
       "parkingSpaces                 0\n",
       "yearBuilt                     0\n",
       "latestPrice                   0\n",
       "latest_saledate               0\n",
       "latest_salemonth              0\n",
       "latest_saleyear               0\n",
       "numOfAccessibilityFeatures    0\n",
       "numOfAppliances               0\n",
       "numOfParkingFeatures          0\n",
       "numOfPatioAndPorchFeatures    0\n",
       "numOfSecurityFeatures         0\n",
       "numOfWaterfrontFeatures       0\n",
       "numOfWindowFeatures           0\n",
       "numOfCommunityFeatures        0\n",
       "lotSizeSqFt                   0\n",
       "livingAreaSqFt                0\n",
       "numOfPrimarySchools           0\n",
       "numOfElementarySchools        0\n",
       "numOfMiddleSchools            0\n",
       "numOfHighSchools              0\n",
       "avgSchoolDistance             0\n",
       "avgSchoolRating               0\n",
       "avgSchoolSize                 0\n",
       "MedianStudentsPerTeacher      0\n",
       "numOfBathrooms                0\n",
       "numOfBedrooms                 0\n",
       "numOfStories                  0\n",
       "dtype: int64"
      ]
     },
     "execution_count": 9,
     "metadata": {},
     "output_type": "execute_result"
    }
   ],
   "source": [
    "housing_df.isnull().sum() # checking still if there any columns with null"
   ]
  },
  {
   "cell_type": "markdown",
   "metadata": {},
   "source": [
    "### Exploratory Data Analysis between LivingAreaSqft vs latest Price"
   ]
  },
  {
   "cell_type": "code",
   "execution_count": 10,
   "metadata": {},
   "outputs": [
    {
     "data": {
      "image/png": "[encoded data removed]",
      "text/plain": [
       "<Figure size 432x288 with 1 Axes>"
      ]
     },
     "metadata": {
      "needs_background": "light"
     },
     "output_type": "display_data"
    }
   ],
   "source": [
    "# scatter plot between Sales Price vs Living Square ft\n",
    "plt.scatter(housing_df.livingAreaSqFt,housing_df.latestPrice)\n",
    "plt.xlabel('Living Area (sqft)')\n",
    "plt.ylabel('Sales Price')\n",
    "plt.show()"
   ]
  },
  {
   "cell_type": "markdown",
   "metadata": {},
   "source": [
    "## Linear Model  between LivingArea (sqft) vs SalePrice"
   ]
  },
  {
   "cell_type": "code",
   "execution_count": 11,
   "metadata": {},
   "outputs": [],
   "source": [
    "X = housing_df.livingAreaSqFt.values.reshape(-1,1) # reshape two arguments\n",
    "# first arg is number of rows  -1 means , number of rows unspecified\n",
    "#second arg is number of columns (independent variables)"
   ]
  },
  {
   "cell_type": "code",
   "execution_count": 12,
   "metadata": {},
   "outputs": [
    {
     "data": {
      "text/plain": [
       "array([[2601.],\n",
       "       [1768.],\n",
       "       [1478.],\n",
       "       [1678.],\n",
       "       [2132.]])"
      ]
     },
     "execution_count": 12,
     "metadata": {},
     "output_type": "execute_result"
    }
   ],
   "source": [
    "X[:5]"
   ]
  },
  {
   "cell_type": "code",
   "execution_count": 13,
   "metadata": {},
   "outputs": [
    {
     "data": {
      "text/plain": [
       "(15171, 1)"
      ]
     },
     "execution_count": 13,
     "metadata": {},
     "output_type": "execute_result"
    }
   ],
   "source": [
    "X.shape"
   ]
  },
  {
   "cell_type": "code",
   "execution_count": 14,
   "metadata": {},
   "outputs": [],
   "source": [
    "y = housing_df.latestPrice\n",
    "model = LinearRegression() # model instantiated"
   ]
  },
  {
   "cell_type": "code",
   "execution_count": 15,
   "metadata": {},
   "outputs": [
    {
     "data": {
      "text/plain": [
       "LinearRegression()"
      ]
     },
     "execution_count": 15,
     "metadata": {},
     "output_type": "execute_result"
    }
   ],
   "source": [
    "model.fit(X,y)"
   ]
  },
  {
   "cell_type": "code",
   "execution_count": 16,
   "metadata": {},
   "outputs": [
    {
     "name": "stdout",
     "output_type": "stream",
     "text": [
      "(15171,)\n"
     ]
    }
   ],
   "source": [
    "y_pred = model.predict(X)\n",
    "print(y_pred.shape)"
   ]
  },
  {
   "cell_type": "code",
   "execution_count": 17,
   "metadata": {},
   "outputs": [
    {
     "data": {
      "image/png": "[encoded data removed]",
      "text/plain": [
       "<Figure size 432x288 with 1 Axes>"
      ]
     },
     "metadata": {
      "needs_background": "light"
     },
     "output_type": "display_data"
    }
   ],
   "source": [
    "plt.scatter(X,y)\n",
    "plt.plot(X,y_pred, color='red')\n",
    "plt.xlabel(\"Living Area Sqft\")\n",
    "plt.ylabel(\"Sales Price\")\n",
    "plt.show()"
   ]
  },
  {
   "cell_type": "code",
   "execution_count": 18,
   "metadata": {},
   "outputs": [
    {
     "name": "stdout",
     "output_type": "stream",
     "text": [
      "[153.53008865]\n",
      "173723.66953146114\n"
     ]
    }
   ],
   "source": [
    "print(model.coef_)\n",
    "print(model.intercept_)"
   ]
  },
  {
   "cell_type": "markdown",
   "metadata": {},
   "source": [
    "## Exploratory Analysis Between YearBuilt vs Sale Price"
   ]
  },
  {
   "cell_type": "code",
   "execution_count": 19,
   "metadata": {},
   "outputs": [
    {
     "data": {
      "image/png": "[encoded data removed]",
      "text/plain": [
       "<Figure size 432x288 with 1 Axes>"
      ]
     },
     "metadata": {
      "needs_background": "light"
     },
     "output_type": "display_data"
    }
   ],
   "source": [
    "plt.scatter(housing_df.yearBuilt,housing_df.latestPrice)\n",
    "plt.xlabel('Year Built')\n",
    "plt.ylabel('Sales Price')\n",
    "plt.show()"
   ]
  },
  {
   "cell_type": "markdown",
   "metadata": {},
   "source": [
    "## Linear Model  between Year Built vs SalePrice"
   ]
  },
  {
   "cell_type": "code",
   "execution_count": 20,
   "metadata": {},
   "outputs": [],
   "source": [
    "X = housing_df.yearBuilt.values.reshape(-1,1) # reshape two arguments"
   ]
  },
  {
   "cell_type": "code",
   "execution_count": 21,
   "metadata": {},
   "outputs": [
    {
     "data": {
      "text/plain": [
       "LinearRegression()"
      ]
     },
     "execution_count": 21,
     "metadata": {},
     "output_type": "execute_result"
    }
   ],
   "source": [
    "y = housing_df.latestPrice\n",
    "model = LinearRegression() # model instantiated\n",
    "model.fit(X,y)"
   ]
  },
  {
   "cell_type": "code",
   "execution_count": 22,
   "metadata": {},
   "outputs": [
    {
     "name": "stdout",
     "output_type": "stream",
     "text": [
      "(15171,)\n"
     ]
    }
   ],
   "source": [
    "y_pred = model.predict(X)\n",
    "print(y_pred.shape)"
   ]
  },
  {
   "cell_type": "code",
   "execution_count": 23,
   "metadata": {},
   "outputs": [
    {
     "name": "stdout",
     "output_type": "stream",
     "text": [
      "[1253.58771797]\n",
      "-1980060.0581185068\n"
     ]
    },
    {
     "data": {
      "image/png": "[encoded data removed]",
      "text/plain": [
       "<Figure size 432x288 with 1 Axes>"
      ]
     },
     "metadata": {
      "needs_background": "light"
     },
     "output_type": "display_data"
    }
   ],
   "source": [
    "print(model.coef_)\n",
    "print(model.intercept_)\n",
    "\n",
    "plt.scatter(X,y)\n",
    "plt.plot(X,y_pred, color='red')\n",
    "plt.xlabel(\"Year Built\")\n",
    "plt.ylabel(\"Sale Price\")\n",
    "plt.show()"
   ]
  }
 ],
 "metadata": {
  "kernelspec": {
   "display_name": "PythonData",
   "language": "python",
   "name": "pythondata"
  },
  "language_info": {
   "codemirror_mode": {
    "name": "ipython",
    "version": 3
   },
   "file_extension": ".py",
   "mimetype": "text/x-python",
   "name": "python",
   "nbconvert_exporter": "python",
   "pygments_lexer": "ipython3",
   "version": "3.8.5"
  }
 },
 "nbformat": 4,
 "nbformat_minor": 4
}
